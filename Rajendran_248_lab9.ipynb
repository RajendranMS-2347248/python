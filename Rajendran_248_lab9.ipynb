{
 "cells": [
  {
   "cell_type": "markdown",
   "metadata": {},
   "source": [
    "Q1. Write a program to distinguish between Array Indexing and Fancy Indexing."
   ]
  },
  {
   "cell_type": "code",
   "execution_count": 6,
   "metadata": {},
   "outputs": [
    {
     "name": "stdout",
     "output_type": "stream",
     "text": [
      "Simple Indexing:  4\n",
      "Fancy indexing: [2 5 8 0]\n"
     ]
    }
   ],
   "source": [
    "import numpy as np\n",
    "\n",
    "arr=np.array([1,2,3,4,5,6,7,8,9,0])\n",
    "\n",
    "#Normal indexing is just displaying one element in an array by giving the index value in the print statement\n",
    "simple = arr[3]\n",
    "print(\"Simple Indexing: \" , simple)\n",
    "\n",
    "#Fancy indexing is where we can display multiple elements at once from an array by giving multiple values in one print statement\n",
    "fancy=arr[[1,4,7,9]]\n",
    "print(\"Fancy indexing:\" , fancy)"
   ]
  },
  {
   "cell_type": "markdown",
   "metadata": {},
   "source": [
    "Q2. Execute the 2D array Slicing."
   ]
  },
  {
   "cell_type": "code",
   "execution_count": 7,
   "metadata": {},
   "outputs": [
    {
     "name": "stdout",
     "output_type": "stream",
     "text": [
      "[[1 2 3 4]\n",
      " [5 6 7 8]]\n",
      "-----------------------------------------------------\n",
      "[1 2]\n",
      "-----------------------------------------------------\n",
      "[3]\n",
      "-----------------------------------------------------\n"
     ]
    }
   ],
   "source": [
    "arr=np.array([[1,2,3,4],[5,6,7,8]])\n",
    "print(arr)\n",
    "print(\"-----------------------------------------------------\")\n",
    "print(arr[0, 0:2])\n",
    "print(\"-----------------------------------------------------\")\n",
    "print(arr[0:1,2])\n",
    "print(\"-----------------------------------------------------\")"
   ]
  },
  {
   "cell_type": "markdown",
   "metadata": {},
   "source": [
    "Q3. Create the 5-Dimensional arrays using ‘ndmin’."
   ]
  },
  {
   "cell_type": "code",
   "execution_count": 9,
   "metadata": {},
   "outputs": [
    {
     "name": "stdout",
     "output_type": "stream",
     "text": [
      "arr: [[[[[1 2 3 4 5]]]]]\n"
     ]
    }
   ],
   "source": [
    "arr= np.array([1,2,3,4,5], ndmin=5)\n",
    "\n",
    "print(\"arr:\",arr)"
   ]
  },
  {
   "cell_type": "markdown",
   "metadata": {},
   "source": [
    "Q4. Reshape the array from 1-D to 2-D array."
   ]
  },
  {
   "cell_type": "code",
   "execution_count": 12,
   "metadata": {},
   "outputs": [
    {
     "name": "stdout",
     "output_type": "stream",
     "text": [
      "Original array: [1 2 3 4 5 6 7 8 9 0]\n",
      "New array after reshaping : \n",
      " [[1 2]\n",
      " [3 4]\n",
      " [5 6]\n",
      " [7 8]\n",
      " [9 0]]\n"
     ]
    }
   ],
   "source": [
    "arr=np.array([1,2,3,4,5,6,7,8,9,0])\n",
    "\n",
    "print(\"Original array:\",arr)\n",
    "\n",
    "res_arr= arr.reshape(5,2)\n",
    "\n",
    "print(\"New array after reshaping : \\n\", res_arr)"
   ]
  },
  {
   "cell_type": "markdown",
   "metadata": {},
   "source": [
    "Q5. Perform the Stack functions in Numpy arrays – Stack(), hstack(), vstack(), and dstack()."
   ]
  },
  {
   "cell_type": "code",
   "execution_count": 15,
   "metadata": {},
   "outputs": [
    {
     "name": "stdout",
     "output_type": "stream",
     "text": [
      "Vorizontal stack: \n",
      " [1 2 3 4 5 6]\n",
      "\n",
      " Vertical stack:\n",
      " [[1 2 3]\n",
      " [4 5 6]]\n",
      "\n",
      " dstack:\n",
      " [[[1 4]\n",
      "  [2 5]\n",
      "  [3 6]]]\n",
      "\n",
      " Normal stack:\n",
      " [[1 4]\n",
      " [2 5]\n",
      " [3 6]]\n"
     ]
    }
   ],
   "source": [
    "arr1 = np.array([1, 2, 3])\n",
    "\n",
    "arr2 = np.array([4, 5, 6])\n",
    "\n",
    "arr_res1 = np.hstack((arr1, arr2))\n",
    "\n",
    "print(\"Vorizontal stack: \\n\",arr_res1)\n",
    "\n",
    "arr_res2 = np.vstack((arr1, arr2))\n",
    "\n",
    "print(\"\\n Vertical stack:\\n\",arr_res2)\n",
    "\n",
    "arr_res3 = np.dstack((arr1, arr2))\n",
    "\n",
    "print(\"\\n dstack:\\n\", arr_res3)\n",
    "\n",
    "arr_res4 = np.stack((arr1, arr2), axis=1)\n",
    "\n",
    "print(\"\\n Normal stack:\\n\",arr_res4)"
   ]
  },
  {
   "cell_type": "markdown",
   "metadata": {},
   "source": [
    "Q6. Perform the searchsort method in Numpy array."
   ]
  },
  {
   "cell_type": "code",
   "execution_count": null,
   "metadata": {},
   "outputs": [],
   "source": [
    "arr = np.array([6, 8, 9,7])\n",
    "\n",
    "x = np.searchsorted(arr, 7,side='left')\n",
    "\n",
    "print(x)"
   ]
  },
  {
   "cell_type": "markdown",
   "metadata": {},
   "source": [
    "Q7. Create Numpy Structured array using your domain features."
   ]
  },
  {
   "cell_type": "code",
   "execution_count": null,
   "metadata": {},
   "outputs": [],
   "source": [
    "import numpy as np\n",
    "\n",
    "# Define the structured data type for the election system\n",
    "election_dtype = np.dtype([\n",
    "    ('voter_id', 'int32'),\n",
    "    ('voter_name', 'U50'),  # 'U50' specifies Unicode string of up to 50 characters\n",
    "    ('age', 'int32'),\n",
    "    ('address', 'U100'),   # 'U100' specifies Unicode string of up to 100 characters\n",
    "    ('vote_cast', 'bool')\n",
    "])\n",
    "\n",
    "# Create a structured array with sample data\n",
    "election_data = np.array([\n",
    "    (1, 'Alok Misra', 30, '123 Main St', True),\n",
    "    (2, 'John Smith', 28, '456 Elm St', False),\n",
    "    (3, 'Anand Patel', 35, '789 Oak St', True)\n",
    "], dtype=election_dtype)\n",
    "\n",
    "# Print the structured array\n",
    "print(\"Election Data Structured Array:\")\n",
    "print(election_data)"
   ]
  },
  {
   "cell_type": "markdown",
   "metadata": {},
   "source": [
    "Q8. Create Data frame using List and Dictionary."
   ]
  },
  {
   "cell_type": "code",
   "execution_count": 1,
   "metadata": {},
   "outputs": [
    {
     "name": "stdout",
     "output_type": "stream",
     "text": [
      "Defaulting to user installation because normal site-packages is not writeable\n",
      "Collecting pandas\n",
      "  Obtaining dependency information for pandas from https://files.pythonhosted.org/packages/ee/70/bad32e3c05d95bc53ed2c596fc8edb333cdd9049d248b6702d92d6be2389/pandas-2.1.0-cp39-cp39-macosx_11_0_arm64.whl.metadata\n",
      "  Downloading pandas-2.1.0-cp39-cp39-macosx_11_0_arm64.whl.metadata (18 kB)\n",
      "Requirement already satisfied: numpy>=1.22.4 in /Users/rajendranms/Library/Python/3.9/lib/python/site-packages (from pandas) (1.25.2)\n",
      "Requirement already satisfied: python-dateutil>=2.8.2 in /Users/rajendranms/Library/Python/3.9/lib/python/site-packages (from pandas) (2.8.2)\n",
      "Collecting pytz>=2020.1 (from pandas)\n",
      "  Obtaining dependency information for pytz>=2020.1 from https://files.pythonhosted.org/packages/32/4d/aaf7eff5deb402fd9a24a1449a8119f00d74ae9c2efa79f8ef9994261fc2/pytz-2023.3.post1-py2.py3-none-any.whl.metadata\n",
      "  Using cached pytz-2023.3.post1-py2.py3-none-any.whl.metadata (22 kB)\n",
      "Collecting tzdata>=2022.1 (from pandas)\n",
      "  Using cached tzdata-2023.3-py2.py3-none-any.whl (341 kB)\n",
      "Requirement already satisfied: six>=1.5 in /Applications/Xcode.app/Contents/Developer/Library/Frameworks/Python3.framework/Versions/3.9/lib/python3.9/site-packages (from python-dateutil>=2.8.2->pandas) (1.15.0)\n",
      "Downloading pandas-2.1.0-cp39-cp39-macosx_11_0_arm64.whl (11.3 MB)\n",
      "\u001b[2K   \u001b[90m━━━━━━━━━━━━━━━━━━━━━━━━━━━━━━━━━━━━━━━━\u001b[0m \u001b[32m11.3/11.3 MB\u001b[0m \u001b[31m1.7 MB/s\u001b[0m eta \u001b[36m0:00:00\u001b[0m00:01\u001b[0m00:01\u001b[0m\n",
      "\u001b[?25hUsing cached pytz-2023.3.post1-py2.py3-none-any.whl (502 kB)\n",
      "Installing collected packages: pytz, tzdata, pandas\n",
      "Successfully installed pandas-2.1.0 pytz-2023.3.post1 tzdata-2023.3\n",
      "Note: you may need to restart the kernel to use updated packages.\n"
     ]
    }
   ],
   "source": [
    "pip install pandas\n"
   ]
  },
  {
   "cell_type": "code",
   "execution_count": 1,
   "metadata": {},
   "outputs": [
    {
     "name": "stdout",
     "output_type": "stream",
     "text": [
      "   id   type                             url    title  \\\n",
      "0   1  image  https://example.com/image1.jpg  Image 1   \n",
      "1   2  video  https://example.com/video1.mp4  Video 1   \n",
      "2   3  audio  https://example.com/audio1.mp3  Audio 1   \n",
      "\n",
      "                description  \n",
      "0  This is the first image.  \n",
      "1  This is the first video.  \n",
      "2  This is the first audio.  \n"
     ]
    }
   ],
   "source": [
    "import pandas as pd\n",
    "\n",
    "# Creating a DataFrame using Lists\n",
    "multimedia_data = [\n",
    "    {\n",
    "        \"id\": 1,\n",
    "        \"type\": \"image\",\n",
    "        \"url\": \"https://example.com/image1.jpg\",\n",
    "        \"title\": \"Image 1\",\n",
    "        \"description\": \"This is the first image.\",\n",
    "    },\n",
    "    {\n",
    "        \"id\": 2,\n",
    "        \"type\": \"video\",\n",
    "        \"url\": \"https://example.com/video1.mp4\",\n",
    "        \"title\": \"Video 1\",\n",
    "        \"description\": \"This is the first video.\",\n",
    "    },\n",
    "    {\n",
    "        \"id\": 3,\n",
    "        \"type\": \"audio\",\n",
    "        \"url\": \"https://example.com/audio1.mp3\",\n",
    "        \"title\": \"Audio 1\",\n",
    "        \"description\": \"This is the first audio.\",\n",
    "    },\n",
    "]\n",
    "\n",
    "# Create a DataFrame from the list of multimedia data\n",
    "multimedia_df = pd.DataFrame(multimedia_data)\n",
    "\n",
    "# Print the DataFrame\n",
    "print(multimedia_df)\n",
    "   "
   ]
  },
  {
   "cell_type": "markdown",
   "metadata": {},
   "source": [
    "Q9. Create Data frame on your Domain area and perform the following operations to find and eliminate the\n",
    "missing data from the dataset.\n",
    "• isnull()\n",
    "• notnull()\n",
    "• dropna()\n",
    "• fillna()\n",
    "• replace()\n",
    "• interpolate()"
   ]
  },
  {
   "cell_type": "code",
   "execution_count": 3,
   "metadata": {},
   "outputs": [
    {
     "name": "stdout",
     "output_type": "stream",
     "text": [
      "      id   type    url  title  description\n",
      "0  False  False  False  False        False\n",
      "1  False  False  False  False        False\n",
      "2  False  False  False  False        False\n",
      "3  False  False  False  False        False\n",
      "4  False  False  False  False         True\n",
      "5  False  False  False  False         True\n",
      "   id   type                             url    title  \\\n",
      "0   1  image  https://example.com/image1.jpg  Image 1   \n",
      "1   2  video  https://example.com/video1.mp4  Video 1   \n",
      "2   3  audio  https://example.com/audio1.mp3  Audio 1   \n",
      "3   4  image  https://example.com/image2.jpg  Image 2   \n",
      "\n",
      "                 description  \n",
      "0   This is the first image.  \n",
      "1   This is the first video.  \n",
      "2   This is the first audio.  \n",
      "3  This is the second image.  \n"
     ]
    },
    {
     "name": "stderr",
     "output_type": "stream",
     "text": [
      "/var/folders/cp/5711s1d55n95y8r5m7tv2plw0000gn/T/ipykernel_8042/991806757.py:65: FutureWarning: DataFrame.interpolate with object dtype is deprecated and will raise in a future version. Call obj.infer_objects(copy=False) before interpolating instead.\n",
      "  multimedia_df = multimedia_df.interpolate()\n"
     ]
    }
   ],
   "source": [
    "import pandas as pd\n",
    "\n",
    "# Create a list of multimedia data\n",
    "multimedia_data = [\n",
    "    {\n",
    "        \"id\": 1,\n",
    "        \"type\": \"image\",\n",
    "        \"url\": \"https://example.com/image1.jpg\",\n",
    "        \"title\": \"Image 1\",\n",
    "        \"description\": \"This is the first image.\",\n",
    "    },\n",
    "    {\n",
    "        \"id\": 2,\n",
    "        \"type\": \"video\",\n",
    "        \"url\": \"https://example.com/video1.mp4\",\n",
    "        \"title\": \"Video 1\",\n",
    "        \"description\": \"This is the first video.\",\n",
    "    },\n",
    "    {\n",
    "        \"id\": 3,\n",
    "        \"type\": \"audio\",\n",
    "        \"url\": \"https://example.com/audio1.mp3\",\n",
    "        \"title\": \"Audio 1\",\n",
    "        \"description\": \"This is the first audio.\",\n",
    "    },\n",
    "    {\n",
    "        \"id\": 4,\n",
    "        \"type\": \"image\",\n",
    "        \"url\": \"https://example.com/image2.jpg\",\n",
    "        \"title\": \"Image 2\",\n",
    "        \"description\": \"This is the second image.\",\n",
    "    },\n",
    "    {\n",
    "        \"id\": 5,\n",
    "        \"type\": \"video\",\n",
    "        \"url\": \"https://example.com/video2.mp4\",\n",
    "        \"title\": \"Video 2\",\n",
    "        \"description\": None,  # Missing data\n",
    "    },\n",
    "    {\n",
    "        \"id\": 6,\n",
    "        \"type\": \"audio\",\n",
    "        \"url\": \"https://example.com/audio2.mp3\",\n",
    "        \"title\": \"Audio 2\",\n",
    "        \"description\": None,  # Missing data\n",
    "    },\n",
    "]\n",
    "\n",
    "# Create a DataFrame from the list of multimedia data\n",
    "multimedia_df = pd.DataFrame(multimedia_data)\n",
    "\n",
    "# Identify the missing data\n",
    "print(multimedia_df.isnull())\n",
    "\n",
    "# Drop the missing data\n",
    "multimedia_df = multimedia_df.dropna()\n",
    "\n",
    "# Fill in the missing data\n",
    "multimedia_df = multimedia_df.fillna(\"Unknown\")\n",
    "\n",
    "# Replace the missing data\n",
    "multimedia_df = multimedia_df.replace(\"None\", \"NA\")\n",
    "\n",
    "# Interpolate the missing data\n",
    "multimedia_df = multimedia_df.interpolate()\n",
    "\n",
    "# Print the DataFrame\n",
    "print(multimedia_df)\n",
    "\n",
    "\n",
    "\n",
    "\n"
   ]
  },
  {
   "cell_type": "markdown",
   "metadata": {},
   "source": [
    "Q10. Perform the Hierarchical Indexing in the above created dataset."
   ]
  },
  {
   "cell_type": "code",
   "execution_count": 7,
   "metadata": {},
   "outputs": [
    {
     "name": "stdout",
     "output_type": "stream",
     "text": [
      "                                                 id   type        date  \\\n",
      "type             date             location                               \n",
      "image            video            audio           1  image  2023-09-17   \n",
      "2023-09-17       2023-09-18       2023-09-19      2  video  2023-09-18   \n",
      "Bengaluru, India New Delhi, India Mumbai, India   3  audio  2023-09-19   \n",
      "\n",
      "                                                         location  \n",
      "type             date             location                         \n",
      "image            video            audio          Bengaluru, India  \n",
      "2023-09-17       2023-09-18       2023-09-19     New Delhi, India  \n",
      "Bengaluru, India New Delhi, India Mumbai, India     Mumbai, India  \n"
     ]
    }
   ],
   "source": [
    "import pandas as pd\n",
    "\n",
    "# Create a list of multimedia data\n",
    "multimedia_data = [\n",
    "    {\n",
    "        \"id\": 1,\n",
    "        \"type\": \"image\",\n",
    "        \"date\": \"2023-09-17\",\n",
    "        \"location\": \"Bengaluru, India\",\n",
    "    },\n",
    "    {\n",
    "        \"id\": 2,\n",
    "        \"type\": \"video\",\n",
    "        \"date\": \"2023-09-18\",\n",
    "        \"location\": \"New Delhi, India\",\n",
    "    },\n",
    "    {\n",
    "        \"id\": 3,\n",
    "        \"type\": \"audio\",\n",
    "        \"date\": \"2023-09-19\",\n",
    "        \"location\": \"Mumbai, India\",\n",
    "    },\n",
    "]\n",
    "\n",
    "# Create a DataFrame from the list of multimedia data\n",
    "multimedia_df = pd.DataFrame(multimedia_data)\n",
    "\n",
    "# Create a list of tuples for each level of the hierarchy\n",
    "levels = [[\"image\", \"video\", \"audio\"], [\"2023-09-17\", \"2023-09-18\", \"2023-09-19\"], [\"Bengaluru, India\", \"New Delhi, India\", \"Mumbai, India\"]]\n",
    "\n",
    "# Create a MultiIndex from the list of tuples\n",
    "mi = pd.MultiIndex.from_tuples(levels, names=[\"type\", \"date\", \"location\"])\n",
    "\n",
    "# Set the MultiIndex as the index of the DataFrame\n",
    "multimedia_df.index = mi\n",
    "\n",
    "# Print the DataFrame\n",
    "print(multimedia_df)\n",
    "\n"
   ]
  }
 ],
 "metadata": {
  "kernelspec": {
   "display_name": "Python 3",
   "language": "python",
   "name": "python3"
  },
  "language_info": {
   "codemirror_mode": {
    "name": "ipython",
    "version": 3
   },
   "file_extension": ".py",
   "mimetype": "text/x-python",
   "name": "python",
   "nbconvert_exporter": "python",
   "pygments_lexer": "ipython3",
   "version": "3.9.6"
  },
  "orig_nbformat": 4
 },
 "nbformat": 4,
 "nbformat_minor": 2
}
