{
  "metadata": {
    "language_info": {
      "codemirror_mode": {
        "name": "python",
        "version": 3
      },
      "file_extension": ".py",
      "mimetype": "text/x-python",
      "name": "python",
      "nbconvert_exporter": "python",
      "pygments_lexer": "ipython3",
      "version": "3.8"
    },
    "kernelspec": {
      "name": "python",
      "display_name": "Python (Pyodide)",
      "language": "python"
    }
  },
  "nbformat_minor": 4,
  "nbformat": 4,
  "cells": [
    {
      "cell_type": "code",
      "source": "Q1. Create two 3×3 matrices using the random function in Numpy and perform the following operations.\nè Product (prod)\nè Multiplication (multiply)\nè Dot Product (dot)\n",
      "metadata": {},
      "execution_count": null,
      "outputs": []
    },
    {
      "cell_type": "markdown",
      "source": "import numpy as np\n\nA = np.random.randint(0,9,size=(3,3),dtype=int)\nB = np.random.randint(0,9,size=(3,3),dtype=int)\n\nprint(A)\n\nprint(B)\n\n\nA*B",
      "metadata": {}
    },
    {
      "cell_type": "code",
      "source": "np.multiply(A,B)",
      "metadata": {
        "trusted": true
      },
      "execution_count": 7,
      "outputs": [
        {
          "execution_count": 7,
          "output_type": "execute_result",
          "data": {
            "text/plain": "array([[ 2,  0,  6],\n       [ 6, 42,  0],\n       [15,  0, 15]])"
          },
          "metadata": {}
        }
      ]
    },
    {
      "cell_type": "code",
      "source": "Q2. Perform the following set operations using the Numpy functions.\nè Union\nè Intersection\nè Set difference\nè XOR\n",
      "metadata": {},
      "execution_count": null,
      "outputs": []
    },
    {
      "cell_type": "markdown",
      "source": "np.dot(A,B)",
      "metadata": {}
    },
    {
      "cell_type": "code",
      "source": "C=np.random.randint(0,9,size=(1,4),dtype=int)\nD=np.random.randint(0,9,size=(1,4),dtype=int)\n\nprint(C)\nprint(D)\n\nunion=np.union1d(C,D)\nprint(union)",
      "metadata": {
        "trusted": true
      },
      "execution_count": 13,
      "outputs": [
        {
          "name": "stdout",
          "text": "[[0 1 8 8]]\n[[2 3 3 3]]\n[0 1 2 3 8]\n",
          "output_type": "stream"
        }
      ]
    },
    {
      "cell_type": "code",
      "source": "inter=np.intersect1d(C,D)\nprint(inter)",
      "metadata": {
        "trusted": true
      },
      "execution_count": 25,
      "outputs": [
        {
          "name": "stdout",
          "text": "[]\n",
          "output_type": "stream"
        }
      ]
    },
    {
      "cell_type": "code",
      "source": "dif=np.setdiff1d(C,D)\nprint(diff)",
      "metadata": {
        "trusted": true
      },
      "execution_count": 22,
      "outputs": [
        {
          "name": "stdout",
          "text": "[0 1 8]\n",
          "output_type": "stream"
        }
      ]
    },
    {
      "cell_type": "code",
      "source": "x=np.setxor1d(C,D)\nprint(x)",
      "metadata": {
        "trusted": true
      },
      "execution_count": 26,
      "outputs": [
        {
          "name": "stdout",
          "text": "[0 1 2 3 8]\n",
          "output_type": "stream"
        }
      ]
    },
    {
      "cell_type": "markdown",
      "source": "Q3. Create a 1D array using Random function and perform the following operations.\nè Cumulative sum\nè Cumulative Product\nè Discrete difference (with n=3)\nè Find the unique elements from the array",
      "metadata": {}
    },
    {
      "cell_type": "code",
      "source": "E=np.random.randint(0,9,size=(1,8),dtype=int)\n\n\na=np.cumsum(E)\nprint(a)",
      "metadata": {
        "trusted": true
      },
      "execution_count": 36,
      "outputs": [
        {
          "name": "stdout",
          "text": "[ 7 11 12 19 25 32 40 47]\n",
          "output_type": "stream"
        }
      ]
    },
    {
      "cell_type": "code",
      "source": "b=np.cumprod(E)\n\nprint(b)",
      "metadata": {
        "trusted": true
      },
      "execution_count": 32,
      "outputs": [
        {
          "name": "stdout",
          "text": "[     5     30    210    840   2520  20160  80640 564480]\n",
          "output_type": "stream"
        }
      ]
    },
    {
      "cell_type": "code",
      "source": "c=np.diff(E,n=3)\nprint(c)",
      "metadata": {
        "trusted": true
      },
      "execution_count": 35,
      "outputs": [
        {
          "name": "stdout",
          "text": "[[ -4   6   4 -15  16]]\n",
          "output_type": "stream"
        }
      ]
    },
    {
      "cell_type": "code",
      "source": "d=np.unique(E)\nprint(d)",
      "metadata": {},
      "execution_count": null,
      "outputs": []
    },
    {
      "cell_type": "markdown",
      "source": "Q4. Create two 1D array and perform the Addition using zip(), add() and user defined function (frompyfunc())\n",
      "metadata": {}
    },
    {
      "cell_type": "code",
      "source": "F=np.random.randint(0,9,size=(1,8),dtype=int)\nG=np.random.randint(0,9,size=(1,8),dtype=int)\n\nrezip=[x+y for x,y in zip(F,G)]\n\nreadd=np.add(F,G)\n\naddfunct=np.frompyfunc(lambda x,y : x + y,2,1)\nrescust= addfunct(F,G)\n\nprint(F)\nprint(G)\nprint(\"Using zip():\",rezip)\nprint(\"using add():\",readd)\nprint(\"using addfunct():\",addfunct)\nprint(\"using rescust():\",rescust)\n\n\n",
      "metadata": {
        "trusted": true
      },
      "execution_count": 40,
      "outputs": [
        {
          "name": "stdout",
          "text": "[[8 7 4 2 5 3 8 6]]\n[[8 6 0 4 8 7 5 3]]\nUsing zip(): [array([16, 13,  4,  6, 13, 10, 13,  9])]\nusing add(): [[16 13  4  6 13 10 13  9]]\nusing addfunct(): <ufunc '<lambda> (vectorized)'>\nusing rescust(): [[16 13 4 6 13 10 13 9]]\n",
          "output_type": "stream"
        }
      ]
    },
    {
      "cell_type": "code",
      "source": "from functools import reduce\nimport math\n\ndef lcm(x,y):\n    return x*y // math.gcd(x,y)\n\ndef gcd(x,y):\n    return math.gcd(x,y)\n\narr=[12,18,124,36]\n\nlcmres=reduce(lcm,arr)\ngcdres=reduce(gcd,arr)\n\nprint(\"Array: \", arr)\nprint(\"LCM: \",lcmres)\nprint(\"GCD: \",gcdres)",
      "metadata": {
        "trusted": true
      },
      "execution_count": 41,
      "outputs": [
        {
          "name": "stdout",
          "text": "Array:  [12, 18, 124, 36]\nLCM:  1116\nGCD:  2\n",
          "output_type": "stream"
        }
      ]
    },
    {
      "cell_type": "code",
      "source": "",
      "metadata": {},
      "execution_count": null,
      "outputs": []
    }
  ]
}